{
 "cells": [
  {
   "cell_type": "code",
   "execution_count": 3,
   "metadata": {},
   "outputs": [],
   "source": [
    "import pandas as pd\n",
    "import numpy as np\n",
    "import matplotlib.pyplot as plt\n",
    "import requests\n",
    "import json"
   ]
  },
  {
   "cell_type": "code",
   "execution_count": 4,
   "metadata": {},
   "outputs": [
    {
     "data": {
      "text/html": [
       "<div>\n",
       "<style scoped>\n",
       "    .dataframe tbody tr th:only-of-type {\n",
       "        vertical-align: middle;\n",
       "    }\n",
       "\n",
       "    .dataframe tbody tr th {\n",
       "        vertical-align: top;\n",
       "    }\n",
       "\n",
       "    .dataframe thead th {\n",
       "        text-align: right;\n",
       "    }\n",
       "</style>\n",
       "<table border=\"1\" class=\"dataframe\">\n",
       "  <thead>\n",
       "    <tr style=\"text-align: right;\">\n",
       "      <th></th>\n",
       "      <th>Unnamed: 0</th>\n",
       "      <th>Id</th>\n",
       "      <th>zip_code</th>\n",
       "      <th>total</th>\n",
       "      <th>non_hispanic_tot</th>\n",
       "      <th>Not Hispanic or Latino householder: - Householder who is White alone</th>\n",
       "      <th>Not Hispanic or Latino householder: - Householder who is Black or African American alone</th>\n",
       "      <th>Not Hispanic or Latino householder: - Householder who is American Indian and Alaska Native alone</th>\n",
       "      <th>Not Hispanic or Latino householder: - Householder who is Asian alone</th>\n",
       "      <th>Not Hispanic or Latino householder: - Householder who is Native Hawaiian and Other Pacific Islander alone</th>\n",
       "      <th>...</th>\n",
       "      <th>Geography_zip</th>\n",
       "      <th>per_capita_income_2017_estimate</th>\n",
       "      <th>per_capita_income_2017_margin</th>\n",
       "      <th>white_tot</th>\n",
       "      <th>black_tot</th>\n",
       "      <th>indian_tot</th>\n",
       "      <th>asian_tot</th>\n",
       "      <th>native_tot</th>\n",
       "      <th>other_tot</th>\n",
       "      <th>mixed_tot</th>\n",
       "    </tr>\n",
       "  </thead>\n",
       "  <tbody>\n",
       "    <tr>\n",
       "      <th>0</th>\n",
       "      <td>0</td>\n",
       "      <td>8600000US43230</td>\n",
       "      <td>43230</td>\n",
       "      <td>19229.0</td>\n",
       "      <td>19017.0</td>\n",
       "      <td>16470.0</td>\n",
       "      <td>1830.0</td>\n",
       "      <td>41.0</td>\n",
       "      <td>484.0</td>\n",
       "      <td>1.0</td>\n",
       "      <td>...</td>\n",
       "      <td>ZCTA5 43230</td>\n",
       "      <td>37246.0</td>\n",
       "      <td>1505.0</td>\n",
       "      <td>19229.0</td>\n",
       "      <td>16589.0</td>\n",
       "      <td>1846.0</td>\n",
       "      <td>48.0</td>\n",
       "      <td>485.0</td>\n",
       "      <td>2.0</td>\n",
       "      <td>67.0</td>\n",
       "    </tr>\n",
       "    <tr>\n",
       "      <th>1</th>\n",
       "      <td>1</td>\n",
       "      <td>8600000US70508</td>\n",
       "      <td>70508</td>\n",
       "      <td>10765.0</td>\n",
       "      <td>10572.0</td>\n",
       "      <td>9538.0</td>\n",
       "      <td>817.0</td>\n",
       "      <td>29.0</td>\n",
       "      <td>108.0</td>\n",
       "      <td>1.0</td>\n",
       "      <td>...</td>\n",
       "      <td>ZCTA5 70508</td>\n",
       "      <td>43590.0</td>\n",
       "      <td>2881.0</td>\n",
       "      <td>10765.0</td>\n",
       "      <td>9671.0</td>\n",
       "      <td>822.0</td>\n",
       "      <td>29.0</td>\n",
       "      <td>110.0</td>\n",
       "      <td>1.0</td>\n",
       "      <td>45.0</td>\n",
       "    </tr>\n",
       "    <tr>\n",
       "      <th>2</th>\n",
       "      <td>2</td>\n",
       "      <td>8600000US07024</td>\n",
       "      <td>7024</td>\n",
       "      <td>16544.0</td>\n",
       "      <td>15531.0</td>\n",
       "      <td>11017.0</td>\n",
       "      <td>301.0</td>\n",
       "      <td>5.0</td>\n",
       "      <td>3980.0</td>\n",
       "      <td>3.0</td>\n",
       "      <td>...</td>\n",
       "      <td>ZCTA5 07024</td>\n",
       "      <td>46942.0</td>\n",
       "      <td>2626.0</td>\n",
       "      <td>16544.0</td>\n",
       "      <td>11737.0</td>\n",
       "      <td>321.0</td>\n",
       "      <td>11.0</td>\n",
       "      <td>3990.0</td>\n",
       "      <td>4.0</td>\n",
       "      <td>190.0</td>\n",
       "    </tr>\n",
       "    <tr>\n",
       "      <th>3</th>\n",
       "      <td>3</td>\n",
       "      <td>8600000US63640</td>\n",
       "      <td>63640</td>\n",
       "      <td>7813.0</td>\n",
       "      <td>7768.0</td>\n",
       "      <td>7613.0</td>\n",
       "      <td>56.0</td>\n",
       "      <td>15.0</td>\n",
       "      <td>33.0</td>\n",
       "      <td>0.0</td>\n",
       "      <td>...</td>\n",
       "      <td>ZCTA5 63640</td>\n",
       "      <td>23468.0</td>\n",
       "      <td>1250.0</td>\n",
       "      <td>7813.0</td>\n",
       "      <td>7648.0</td>\n",
       "      <td>56.0</td>\n",
       "      <td>15.0</td>\n",
       "      <td>34.0</td>\n",
       "      <td>0.0</td>\n",
       "      <td>8.0</td>\n",
       "    </tr>\n",
       "    <tr>\n",
       "      <th>4</th>\n",
       "      <td>4</td>\n",
       "      <td>8600000US04072</td>\n",
       "      <td>4072</td>\n",
       "      <td>7682.0</td>\n",
       "      <td>7657.0</td>\n",
       "      <td>7553.0</td>\n",
       "      <td>15.0</td>\n",
       "      <td>13.0</td>\n",
       "      <td>29.0</td>\n",
       "      <td>4.0</td>\n",
       "      <td>...</td>\n",
       "      <td>ZCTA5 04072</td>\n",
       "      <td>32891.0</td>\n",
       "      <td>2081.0</td>\n",
       "      <td>7682.0</td>\n",
       "      <td>7573.0</td>\n",
       "      <td>16.0</td>\n",
       "      <td>14.0</td>\n",
       "      <td>29.0</td>\n",
       "      <td>4.0</td>\n",
       "      <td>2.0</td>\n",
       "    </tr>\n",
       "  </tbody>\n",
       "</table>\n",
       "<p>5 rows × 30 columns</p>\n",
       "</div>"
      ],
      "text/plain": [
       "   Unnamed: 0              Id  zip_code    total  non_hispanic_tot  \\\n",
       "0           0  8600000US43230     43230  19229.0           19017.0   \n",
       "1           1  8600000US70508     70508  10765.0           10572.0   \n",
       "2           2  8600000US07024      7024  16544.0           15531.0   \n",
       "3           3  8600000US63640     63640   7813.0            7768.0   \n",
       "4           4  8600000US04072      4072   7682.0            7657.0   \n",
       "\n",
       "   Not Hispanic or Latino householder: - Householder who is White alone  \\\n",
       "0                                            16470.0                      \n",
       "1                                             9538.0                      \n",
       "2                                            11017.0                      \n",
       "3                                             7613.0                      \n",
       "4                                             7553.0                      \n",
       "\n",
       "   Not Hispanic or Latino householder: - Householder who is Black or African American alone  \\\n",
       "0                                             1830.0                                          \n",
       "1                                              817.0                                          \n",
       "2                                              301.0                                          \n",
       "3                                               56.0                                          \n",
       "4                                               15.0                                          \n",
       "\n",
       "   Not Hispanic or Latino householder: - Householder who is American Indian and Alaska Native alone  \\\n",
       "0                                               41.0                                                  \n",
       "1                                               29.0                                                  \n",
       "2                                                5.0                                                  \n",
       "3                                               15.0                                                  \n",
       "4                                               13.0                                                  \n",
       "\n",
       "   Not Hispanic or Latino householder: - Householder who is Asian alone  \\\n",
       "0                                              484.0                      \n",
       "1                                              108.0                      \n",
       "2                                             3980.0                      \n",
       "3                                               33.0                      \n",
       "4                                               29.0                      \n",
       "\n",
       "   Not Hispanic or Latino householder: - Householder who is Native Hawaiian and Other Pacific Islander alone  \\\n",
       "0                                                1.0                                                           \n",
       "1                                                1.0                                                           \n",
       "2                                                3.0                                                           \n",
       "3                                                0.0                                                           \n",
       "4                                                4.0                                                           \n",
       "\n",
       "     ...      Geography_zip  per_capita_income_2017_estimate  \\\n",
       "0    ...        ZCTA5 43230                          37246.0   \n",
       "1    ...        ZCTA5 70508                          43590.0   \n",
       "2    ...        ZCTA5 07024                          46942.0   \n",
       "3    ...        ZCTA5 63640                          23468.0   \n",
       "4    ...        ZCTA5 04072                          32891.0   \n",
       "\n",
       "   per_capita_income_2017_margin  white_tot  black_tot  indian_tot  asian_tot  \\\n",
       "0                         1505.0    19229.0    16589.0      1846.0       48.0   \n",
       "1                         2881.0    10765.0     9671.0       822.0       29.0   \n",
       "2                         2626.0    16544.0    11737.0       321.0       11.0   \n",
       "3                         1250.0     7813.0     7648.0        56.0       15.0   \n",
       "4                         2081.0     7682.0     7573.0        16.0       14.0   \n",
       "\n",
       "   native_tot  other_tot  mixed_tot  \n",
       "0       485.0        2.0       67.0  \n",
       "1       110.0        1.0       45.0  \n",
       "2      3990.0        4.0      190.0  \n",
       "3        34.0        0.0        8.0  \n",
       "4        29.0        4.0        2.0  \n",
       "\n",
       "[5 rows x 30 columns]"
      ]
     },
     "execution_count": 4,
     "metadata": {},
     "output_type": "execute_result"
    }
   ],
   "source": [
    "sample_data = pd.read_csv('sample_census_100.csv')\n",
    "sample_data.head()"
   ]
  },
  {
   "cell_type": "code",
   "execution_count": 95,
   "metadata": {
    "scrolled": true
   },
   "outputs": [
    {
     "name": "stdout",
     "output_type": "stream",
     "text": [
      "{'categories': 'mexican', 'location': 92660, 'limit': 50, 'radius': 4000}\n"
     ]
    }
   ],
   "source": [
    "from config import api_key\n",
    "base_url = 'https://api.yelp.com/v3/businesses/search?'\n",
    "head = {'Authorization': 'Bearer '+ api_key}\n",
    "params = {\n",
    "    'categories': 'mexican',\n",
    "    'location': 92660,\n",
    "    'limit': 50,\n",
    "    'radius': 3000\n",
    "    #max limit is 50\n",
    "    \n",
    "         }\n",
    "print(params)\n",
    "response = requests.get(base_url, params, headers=head)\n",
    "#response = requests.request('GET', base_url, headers=head, params=params)"
   ]
  },
  {
   "cell_type": "code",
   "execution_count": 89,
   "metadata": {},
   "outputs": [],
   "source": [
    "output = response.json()"
   ]
  },
  {
   "cell_type": "code",
   "execution_count": 90,
   "metadata": {},
   "outputs": [
    {
     "data": {
      "text/plain": [
       "'{\\n   \"businesses\": [\\n      {\\n         \"id\": \"D_iHwZBxJq1mbXoKt_jgOQ\",\\n         \"alias\": \"sol-mexican-cocina-newport-beach\",\\n         \"name\": \"SOL Mexican Cocina\",\\n         \"image_url\": \"https://s3-media1.fl.yelpcdn.com/bphoto/_VyWNnf9VZKrivYxzxl-zw/o.jpg\",\\n         \"is_closed\": false,\\n         \"url\": \"https://www.yelp.com/biz/sol-mexican-cocina-newport-beach?adjust_creative=TRrxi_0kIDe9zVnCxt_2hQ&utm_campaign=yelp_api_v3&utm_medium=api_v3_business_search&utm_source=TRrxi_0kIDe9zVnCxt_2hQ\",\\n         \"review_count\": 2044,\\n         \"categories\": [\\n            {\\n               \"alias\": \"mexican\",\\n               \"title\": \"Mexican\"\\n            },\\n            {\\n               \"alias\": \"breakfast_brunch\",\\n               \"title\": \"Breakfast & Brunch\"\\n            },\\n            {\\n               \"alias\": \"bars\",\\n               \"title\": \"Bars\"\\n            }\\n         ],\\n         \"rating\": 4.0,\\n         \"coordinates\": {\\n            \"latitude\": 33.615833677112,\\n            \"longitude\": -117.901565396802\\n         },\\n         \"transactions\": [\\n            \"restaurant_reservation\"\\n         ],\\n         \"price\": \"$$\",\\n         \"location\": {\\n            \"address1\": \"251 E Coast Hwy\",\\n            \"address2\": \"\",\\n            \"address3\": \"\",\\n            \"city\": \"Newport Beach\",\\n            \"zip_code\": \"92660\",\\n            \"country\": \"US\",\\n            \"state\": \"CA\",\\n            \"display_address\": [\\n               \"251 E Coast Hwy\",\\n               \"Newport Beach, CA 92660\"\\n            ]\\n         },\\n         \"phone\": \"+19496759800\",\\n         \"display_phone\": \"(949) 675-9800\",\\n         \"distance\": 3304.5564277849494\\n      },\\n      {\\n         \"id\": \"iWIHTz-Pne2ZziLQqETNHA\",\\n         \"alias\": \"red-o-newport-beach-3\",\\n         \"name\": \"Red O\",\\n         \"image_url\": \"https://s3-media2.fl.yelpcdn.com/bphoto/i8k6nOzRgCpnNQWQMziqNw/o.jpg\",\\n         \"is_closed\": false,\\n         \"url\": \"https://www.yelp.com/biz/red-o-newport-beach-3?adjust_creative=TRrxi_0kIDe9zVnCxt_2hQ&utm_campaign=yelp_api_v3&utm_medium=api_v3_business_search&utm_source=TRrxi_0kIDe9zVnCxt_2hQ\",\\n         \"review_count\": 1541,\\n         \"categories\": [\\n            {\\n               \"alias\": \"mexican\",\\n               \"title\": \"Mexican\"\\n            },\\n            {\\n               \"alias\": \"seafood\",\\n               \"title\": \"Seafood\"\\n            },\\n            {\\n               \"alias\": \"steak\",\\n               \"title\": \"Steakhouses\"\\n            }\\n         ],\\n         \"rating\": 4.0,\\n         \"coordinates\": {\\n            \"latitude\": 33.6129616,\\n            \"longitude\": -117.875378\\n         },\\n         \"transactions\": [\\n            \"delivery\",\\n            \"pickup\"\\n         ],\\n         \"price\": \"$$$\",\\n         \"location\": {\\n            \"address1\": \"143 Newport Center Dr\",\\n            \"address2\": \"\",\\n            \"address3\": \"\",\\n            \"city\": \"Newport Beach\",\\n            \"zip_code\": \"92660\",\\n            \"country\": \"US\",\\n            \"state\": \"CA\",\\n            \"display_address\": [\\n               \"143 Newport Center Dr\",\\n               \"Newport Beach, CA 92660\"\\n            ]\\n         },\\n         \"phone\": \"+19497180300\",\\n         \"display_phone\": \"(949) 718-0300\",\\n         \"distance\": 2567.2418450812174\\n      },\\n      {\\n         \"id\": \"yrg2-w1ZhLNWHny-d4885g\",\\n         \"alias\": \"great-mex-newport-beach\",\\n         \"name\": \"Great Mex\",\\n         \"image_url\": \"https://s3-media2.fl.yelpcdn.com/bphoto/JXz57M1CdewL6UYmCsKCMA/o.jpg\",\\n         \"is_closed\": false,\\n         \"url\": \"https://www.yelp.com/biz/great-mex-newport-beach?adjust_creative=TRrxi_0kIDe9zVnCxt_2hQ&utm_campaign=yelp_api_v3&utm_medium=api_v3_business_search&utm_source=TRrxi_0kIDe9zVnCxt_2hQ\",\\n         \"review_count\": 493,\\n         \"categories\": [\\n            {\\n               \"alias\": \"mexican\",\\n               \"title\": \"Mexican\"\\n            },\\n            {\\n               \"alias\": \"salad\",\\n               \"title\": \"Salad\"\\n            },\\n            {\\n               \"alias\": \"breakfast_brunch\",\\n               \"title\": \"Breakfast & Brunch\"\\n            }\\n         ],\\n         \"rating\": 4.5,\\n         \"coordinates\": {\\n            \"latitude\": 33.60199,\\n            \"longitude\": -117.90019\\n         },\\n         \"transactions\": [\\n            \"delivery\",\\n            \"pickup\"\\n         ],\\n         \"price\": \"$\",\\n         \"location\": {\\n            \"address1\": \"703 E Balboa Blvd\",\\n            \"address2\": \"\",\\n            \"address3\": \"\",\\n            \"city\": \"Newport Beach\",\\n            \"zip_code\": \"92661\",\\n            \"country\": \"US\",\\n            \"state\": \"CA\",\\n            \"display_address\": [\\n               \"703 E Balboa Blvd\",\\n               \"Newport Beach, CA 92661\"\\n            ]\\n         },\\n         \"phone\": \"+19496750808\",\\n         \"display_phone\": \"(949) 675-0808\",\\n         \"distance\": 4431.932091160981\\n      },\\n      {\\n         \"id\": \"Ff-KtLQvXmyEK_IhCY8MLw\",\\n         \"alias\": \"playa-mesa-costa-mesa\",\\n         \"name\": \"Playa Mesa\",\\n         \"image_url\": \"https://s3-media2.fl.yelpcdn.com/bphoto/ACZ068UNzAmzJtLF2Lgm5Q/o.jpg\",\\n         \"is_closed\": false,\\n         \"url\": \"https://www.yelp.com/biz/playa-mesa-costa-mesa?adjust_creative=TRrxi_0kIDe9zVnCxt_2hQ&utm_campaign=yelp_api_v3&utm_medium=api_v3_business_search&utm_source=TRrxi_0kIDe9zVnCxt_2hQ\",\\n         \"review_count\": 362,\\n         \"categories\": [\\n            {\\n               \"alias\": \"mexican\",\\n               \"title\": \"Mexican\"\\n            }\\n         ],\\n         \"rating\": 4.0,\\n         \"coordinates\": {\\n            \"latitude\": 33.63048,\\n            \"longitude\": -117.91067\\n         },\\n         \"transactions\": [],\\n         \"price\": \"$$\",\\n         \"location\": {\\n            \"address1\": \"428 E 17th St\",\\n            \"address2\": \"\",\\n            \"address3\": null,\\n            \"city\": \"Costa Mesa\",\\n            \"zip_code\": \"92627\",\\n            \"country\": \"US\",\\n            \"state\": \"CA\",\\n            \"display_address\": [\\n               \"428 E 17th St\",\\n               \"Costa Mesa, CA 92627\"\\n            ]\\n         },\\n         \"phone\": \"+19492875292\",\\n         \"display_phone\": \"(949) 287-5292\",\\n         \"distance\": 3333.9475908049467\\n      },\\n      {\\n         \"id\": \"I5hqwi5SRlFmdam78sa2HA\",\\n         \"alias\": \"taco-rosa-newport-beach\",\\n         \"name\": \"Taco Rosa\",\\n         \"image_url\": \"https://s3-media4.fl.yelpcdn.com/bphoto/vGBYeJkB4imvwtF5Uz8Ldw/o.jpg\",\\n         \"is_closed\": false,\\n         \"url\": \"https://www.yelp.com/biz/taco-rosa-newport-beach?adjust_creative=TRrxi_0kIDe9zVnCxt_2hQ&utm_campaign=yelp_api_v3&utm_medium=api_v3_business_search&utm_source=TRrxi_0kIDe9zVnCxt_2hQ\",\\n         \"review_count\": 454,\\n         \"categories\": [\\n            {\\n               \"alias\": \"mexican\",\\n               \"title\": \"Mexican\"\\n            },\\n            {\\n               \"alias\": \"beerbar\",\\n               \"title\": \"Beer Bar\"\\n            }\\n         ],\\n         \"rating\": 3.5,\\n         \"coordinates\": {\\n            \"latitude\": 33.6270307089144,\\n            \"longitude\": -117.84911439682\\n         },\\n         \"transactions\": [],\\n         \"price\": \"$$\",\\n         \"location\": {\\n            \"address1\": \"2632 San Miguel Dr\",\\n            \"address2\": \"\",\\n            \"address3\": \"\",\\n            \"city\": \"Newport Beach\",\\n            \"zip_code\": \"92660\",\\n            \"country\": \"US\",\\n            \"state\": \"CA\",\\n            \"display_address\": [\\n               \"2632 San Miguel Dr\",\\n               \"Newport Beach, CA 92660\"\\n            ]\\n         },\\n         \"phone\": \"+19497200980\",\\n         \"display_phone\": \"(949) 720-0980\",\\n         \"distance\": 2632.4875624744\\n      },\\n      {\\n         \"id\": \"dTHpXS0uTmOg_aXWLc8TXQ\",\\n         \"alias\": \"acapulco-mexican-restaurant-y-cantina-costa-mesa-3\",\\n         \"name\": \"Acapulco Mexican Restaurant Y Cantina\",\\n         \"image_url\": \"https://s3-media4.fl.yelpcdn.com/bphoto/ndXpgtAA-z-tZOlRBuWvnw/o.jpg\",\\n         \"is_closed\": false,\\n         \"url\": \"https://www.yelp.com/biz/acapulco-mexican-restaurant-y-cantina-costa-mesa-3?adjust_creative=TRrxi_0kIDe9zVnCxt_2hQ&utm_campaign=yelp_api_v3&utm_medium=api_v3_business_search&utm_source=TRrxi_0kIDe9zVnCxt_2hQ\",\\n         \"review_count\": 510,\\n         \"categories\": [\\n            {\\n               \"alias\": \"mexican\",\\n               \"title\": \"Mexican\"\\n            },\\n            {\\n               \"alias\": \"bars\",\\n               \"title\": \"Bars\"\\n            },\\n            {\\n               \"alias\": \"buffets\",\\n               \"title\": \"Buffets\"\\n            }\\n         ],\\n         \"rating\": 4.0,\\n         \"coordinates\": {\\n            \"latitude\": 33.668789,\\n            \"longitude\": -117.885413\\n         },\\n         \"transactions\": [\\n            \"delivery\"\\n         ],\\n         \"price\": \"$$\",\\n         \"location\": {\\n            \"address1\": \"1262 SE Bristol St\",\\n            \"address2\": null,\\n            \"address3\": \"\",\\n            \"city\": \"Costa Mesa\",\\n            \"zip_code\": \"92707\",\\n            \"country\": \"US\",\\n            \"state\": \"CA\",\\n            \"display_address\": [\\n               \"1262 SE Bristol St\",\\n               \"Costa Mesa, CA 92707\"\\n            ]\\n         },\\n         \"phone\": \"+17147546528\",\\n         \"display_phone\": \"(714) 754-6528\",\\n         \"distance\": 3766.1749184368127\\n      },\\n      {\\n         \"id\": \"6s72J5dRPI4oPisO7OzrDA\",\\n         \"alias\": \"picante-martins-mexican-restaurant-newport-beach\",\\n         \"name\": \"Picante Martin\\'s Mexican Restaurant\",\\n         \"image_url\": \"https://s3-media4.fl.yelpcdn.com/bphoto/-z8ymbUyOUoDiWAYYOHxaQ/o.jpg\",\\n         \"is_closed\": false,\\n         \"url\": \"https://www.yelp.com/biz/picante-martins-mexican-restaurant-newport-beach?adjust_creative=TRrxi_0kIDe9zVnCxt_2hQ&utm_campaign=yelp_api_v3&utm_medium=api_v3_business_search&utm_source=TRrxi_0kIDe9zVnCxt_2hQ\",\\n         \"review_count\": 221,\\n         \"categories\": [\\n            {\\n               \"alias\": \"mexican\",\\n               \"title\": \"Mexican\"\\n            },\\n            {\\n               \"alias\": \"breakfast_brunch\",\\n               \"title\": \"Breakfast & Brunch\"\\n            }\\n         ],\\n         \"rating\": 4.0,\\n         \"coordinates\": {\\n            \"latitude\": 33.6079063415527,\\n            \"longitude\": -117.889579772949\\n         },\\n         \"transactions\": [],\\n         \"price\": \"$\",\\n         \"location\": {\\n            \"address1\": \"320 Marine Ave\",\\n            \"address2\": \"Ste B\",\\n            \"address3\": \"\",\\n            \"city\": \"Newport Beach\",\\n            \"zip_code\": \"92662\",\\n            \"country\": \"US\",\\n            \"state\": \"CA\",\\n            \"display_address\": [\\n               \"320 Marine Ave\",\\n               \"Ste B\",\\n               \"Newport Beach, CA 92662\"\\n            ]\\n         },\\n         \"phone\": \"+19496754627\",\\n         \"display_phone\": \"(949) 675-4627\",\\n         \"distance\": 3393.4474297809543\\n      },\\n      {\\n         \"id\": \"OsdWUuLuep19Yo_GUUiKuQ\",\\n         \"alias\": \"great-mex-costa-mesa\",\\n         \"name\": \"Great Mex\",\\n         \"image_url\": \"https://s3-media3.fl.yelpcdn.com/bphoto/MGxbV_hCJ9cCe2KTmIuQ4A/o.jpg\",\\n         \"is_closed\": false,\\n         \"url\": \"https://www.yelp.com/biz/great-mex-costa-mesa?adjust_creative=TRrxi_0kIDe9zVnCxt_2hQ&utm_campaign=yelp_api_v3&utm_medium=api_v3_business_search&utm_source=TRrxi_0kIDe9zVnCxt_2hQ\",\\n         \"review_count\": 271,\\n         \"categories\": [\\n            {\\n               \"alias\": \"mexican\",\\n               \"title\": \"Mexican\"\\n            }\\n         ],\\n         \"rating\": 3.5,\\n         \"coordinates\": {\\n            \"latitude\": 33.65617,\\n            \"longitude\": -117.90325\\n         },\\n         \"transactions\": [\\n            \"delivery\",\\n            \"pickup\"\\n         ],\\n         \"price\": \"$\",\\n         \"location\": {\\n            \"address1\": \"2360 Newport Blvd\",\\n            \"address2\": \"Unit A\",\\n            \"address3\": \"\",\\n            \"city\": \"Costa Mesa\",\\n            \"zip_code\": \"92627\",\\n            \"country\": \"US\",\\n            \"state\": \"CA\",\\n            \"display_address\": [\\n               \"2360 Newport Blvd\",\\n               \"Unit A\",\\n               \"Costa Mesa, CA 92627\"\\n            ]\\n         },\\n         \"phone\": \"+19496451884\",\\n         \"display_phone\": \"(949) 645-1884\",\\n         \"distance\": 3409.021008074606\\n      },\\n      {\\n         \"id\": \"m_at9EiiHftbbzm8xdlJ4A\",\\n         \"alias\": \"avilas-el-ranchito-corona-del-mar-corona-del-mar\",\\n         \"name\": \"Avila\\'s El Ranchito - Corona Del Mar\",\\n         \"image_url\": \"https://s3-media3.fl.yelpcdn.com/bphoto/zkZTB_Cd5xC-30n0BtdrcQ/o.jpg\",\\n         \"is_closed\": false,\\n         \"url\": \"https://www.yelp.com/biz/avilas-el-ranchito-corona-del-mar-corona-del-mar?adjust_creative=TRrxi_0kIDe9zVnCxt_2hQ&utm_campaign=yelp_api_v3&utm_medium=api_v3_business_search&utm_source=TRrxi_0kIDe9zVnCxt_2hQ\",\\n         \"review_count\": 395,\\n         \"categories\": [\\n            {\\n               \"alias\": \"mexican\",\\n               \"title\": \"Mexican\"\\n            }\\n         ],\\n         \"rating\": 3.5,\\n         \"coordinates\": {\\n            \"latitude\": 33.603271,\\n            \"longitude\": -117.873771\\n         },\\n         \"transactions\": [],\\n         \"price\": \"$$\",\\n         \"location\": {\\n            \"address1\": \"2515 E Coast Hwy\",\\n            \"address2\": \"\",\\n            \"address3\": \"\",\\n            \"city\": \"Corona del Mar\",\\n            \"zip_code\": \"92625\",\\n            \"country\": \"US\",\\n            \"state\": \"CA\",\\n            \"display_address\": [\\n               \"2515 E Coast Hwy\",\\n               \"Corona del Mar, CA 92625\"\\n            ]\\n         },\\n         \"phone\": \"+19496448226\",\\n         \"display_phone\": \"(949) 644-8226\",\\n         \"distance\": 3629.7758842644903\\n      },\\n      {\\n         \"id\": \"IPtChejggNrEA7J1uZYRJw\",\\n         \"alias\": \"los-primos-cantina-costa-mesa\",\\n         \"name\": \"Los Primos Cantina\",\\n         \"image_url\": \"https://s3-media4.fl.yelpcdn.com/bphoto/oJjccHdIAF0yLhlZMZv5_A/o.jpg\",\\n         \"is_closed\": false,\\n         \"url\": \"https://www.yelp.com/biz/los-primos-cantina-costa-mesa?adjust_creative=TRrxi_0kIDe9zVnCxt_2hQ&utm_campaign=yelp_api_v3&utm_medium=api_v3_business_search&utm_source=TRrxi_0kIDe9zVnCxt_2hQ\",\\n         \"review_count\": 174,\\n         \"categories\": [\\n            {\\n               \"alias\": \"mexican\",\\n               \"title\": \"Mexican\"\\n            }\\n         ],\\n         \"rating\": 3.5,\\n         \"coordinates\": {\\n            \"latitude\": 33.6290512084961,\\n            \"longitude\": -117.908622741699\\n         },\\n         \"transactions\": [],\\n         \"price\": \"$\",\\n         \"location\": {\\n            \"address1\": \"488 E 17th St\",\\n            \"address2\": \"Ste A106\",\\n            \"address3\": \"\",\\n            \"city\": \"Costa Mesa\",\\n            \"zip_code\": \"92627\",\\n            \"country\": \"US\",\\n            \"state\": \"CA\",\\n            \"display_address\": [\\n               \"488 E 17th St\",\\n               \"Ste A106\",\\n               \"Costa Mesa, CA 92627\"\\n            ]\\n         },\\n         \"phone\": \"+19496501486\",\\n         \"display_phone\": \"(949) 650-1486\",\\n         \"distance\": 3189.5037636524416\\n      },\\n      {\\n         \"id\": \"q4n13YMJdCcoa7wJgcIRew\",\\n         \"alias\": \"taco-grill-2-costa-mesa-2\",\\n         \"name\": \"Taco Grill #2\",\\n         \"image_url\": \"https://s3-media4.fl.yelpcdn.com/bphoto/ON_ZPP5osqcGsxKnnZULSA/o.jpg\",\\n         \"is_closed\": false,\\n         \"url\": \"https://www.yelp.com/biz/taco-grill-2-costa-mesa-2?adjust_creative=TRrxi_0kIDe9zVnCxt_2hQ&utm_campaign=yelp_api_v3&utm_medium=api_v3_business_search&utm_source=TRrxi_0kIDe9zVnCxt_2hQ\",\\n         \"review_count\": 50,\\n         \"categories\": [\\n            {\\n               \"alias\": \"tacos\",\\n               \"title\": \"Tacos\"\\n            }\\n         ],\\n         \"rating\": 4.5,\\n         \"coordinates\": {\\n            \"latitude\": 33.66247,\\n            \"longitude\": -117.89704\\n         },\\n         \"transactions\": [],\\n         \"price\": \"$\",\\n         \"location\": {\\n            \"address1\": \"2590 Newport Blvd\",\\n            \"address2\": \"\",\\n            \"address3\": null,\\n            \"city\": \"Costa Mesa\",\\n            \"zip_code\": \"92627\",\\n            \"country\": \"US\",\\n            \"state\": \"CA\",\\n            \"display_address\": [\\n               \"2590 Newport Blvd\",\\n               \"Costa Mesa, CA 92627\"\\n            ]\\n         },\\n         \"phone\": \"+19496452226\",\\n         \"display_phone\": \"(949) 645-2226\",\\n         \"distance\": 3551.2262223841444\\n      },\\n      {\\n         \"id\": \"zpubv1P7vwxuDtG4S-0MCQ\",\\n         \"alias\": \"cabo-cantina-newport-beach\",\\n         \"name\": \"Cabo Cantina\",\\n         \"image_url\": \"https://s3-media3.fl.yelpcdn.com/bphoto/MKn3BKtb5C94S8tcaNKV1A/o.jpg\",\\n         \"is_closed\": false,\\n         \"url\": \"https://www.yelp.com/biz/cabo-cantina-newport-beach?adjust_creative=TRrxi_0kIDe9zVnCxt_2hQ&utm_campaign=yelp_api_v3&utm_medium=api_v3_business_search&utm_source=TRrxi_0kIDe9zVnCxt_2hQ\",\\n         \"review_count\": 538,\\n         \"categories\": [\\n            {\\n               \"alias\": \"sportsbars\",\\n               \"title\": \"Sports Bars\"\\n            },\\n            {\\n               \"alias\": \"mexican\",\\n               \"title\": \"Mexican\"\\n            },\\n            {\\n               \"alias\": \"breakfast_brunch\",\\n               \"title\": \"Breakfast & Brunch\"\\n            }\\n         ],\\n         \"rating\": 3.5,\\n         \"coordinates\": {\\n            \"latitude\": 33.60137,\\n            \"longitude\": -117.89954\\n         },\\n         \"transactions\": [],\\n         \"price\": \"$$\",\\n         \"location\": {\\n            \"address1\": \"100 Main St\",\\n            \"address2\": null,\\n            \"address3\": \"\",\\n            \"city\": \"Newport Beach\",\\n            \"zip_code\": \"92661\",\\n            \"country\": \"US\",\\n            \"state\": \"CA\",\\n            \"display_address\": [\\n               \"100 Main St\",\\n               \"Newport Beach, CA 92661\"\\n            ]\\n         },\\n         \"phone\": \"+19496757760\",\\n         \"display_phone\": \"(949) 675-7760\",\\n         \"distance\": 4457.785016821339\\n      },\\n      {\\n         \"id\": \"HrPXCtXdoNUv89gK9X8KBw\",\\n         \"alias\": \"wahoos-fish-tacos-newport-beach\",\\n         \"name\": \"Wahoo\\'s Fish Tacos\",\\n         \"image_url\": \"https://s3-media2.fl.yelpcdn.com/bphoto/3SyjZwPszFCLOk5MgmQ5sQ/o.jpg\",\\n         \"is_closed\": false,\\n         \"url\": \"https://www.yelp.com/biz/wahoos-fish-tacos-newport-beach?adjust_creative=TRrxi_0kIDe9zVnCxt_2hQ&utm_campaign=yelp_api_v3&utm_medium=api_v3_business_search&utm_source=TRrxi_0kIDe9zVnCxt_2hQ\",\\n         \"review_count\": 159,\\n         \"categories\": [\\n            {\\n               \"alias\": \"mexican\",\\n               \"title\": \"Mexican\"\\n            },\\n            {\\n               \"alias\": \"seafood\",\\n               \"title\": \"Seafood\"\\n            }\\n         ],\\n         \"rating\": 3.5,\\n         \"coordinates\": {\\n            \"latitude\": 33.6161126997223,\\n            \"longitude\": -117.874506300275\\n         },\\n         \"transactions\": [\\n            \"delivery\"\\n         ],\\n         \"price\": \"$\",\\n         \"location\": {\\n            \"address1\": \"1091 Newport Center Dr\",\\n            \"address2\": \"\",\\n            \"address3\": \"\",\\n            \"city\": \"Newport Beach\",\\n            \"zip_code\": \"92660\",\\n            \"country\": \"US\",\\n            \"state\": \"CA\",\\n            \"display_address\": [\\n               \"1091 Newport Center Dr\",\\n               \"Newport Beach, CA 92660\"\\n            ]\\n         },\\n         \"phone\": \"+19497600290\",\\n         \"display_phone\": \"(949) 760-0290\",\\n         \"distance\": 2218.4136148159637\\n      },\\n      {\\n         \"id\": \"zBxJyNxNPphmRZBcYEw_7w\",\\n         \"alias\": \"romans-mexican-restaurant-costa-mesa-3\",\\n         \"name\": \"Roman\\'s Mexican Restaurant\",\\n         \"image_url\": \"https://s3-media1.fl.yelpcdn.com/bphoto/JvLlLY8adcpZVs_vxim66A/o.jpg\",\\n         \"is_closed\": false,\\n         \"url\": \"https://www.yelp.com/biz/romans-mexican-restaurant-costa-mesa-3?adjust_creative=TRrxi_0kIDe9zVnCxt_2hQ&utm_campaign=yelp_api_v3&utm_medium=api_v3_business_search&utm_source=TRrxi_0kIDe9zVnCxt_2hQ\",\\n         \"review_count\": 157,\\n         \"categories\": [\\n            {\\n               \"alias\": \"mexican\",\\n               \"title\": \"Mexican\"\\n            }\\n         ],\\n         \"rating\": 3.5,\\n         \"coordinates\": {\\n            \"latitude\": 33.657106,\\n            \"longitude\": -117.902004\\n         },\\n         \"transactions\": [\\n            \"delivery\",\\n            \"pickup\"\\n         ],\\n         \"price\": \"$\",\\n         \"location\": {\\n            \"address1\": \"2400 Newport Blvd\",\\n            \"address2\": \"\",\\n            \"address3\": \"\",\\n            \"city\": \"Costa Mesa\",\\n            \"zip_code\": \"92627\",\\n            \"country\": \"US\",\\n            \"state\": \"CA\",\\n            \"display_address\": [\\n               \"2400 Newport Blvd\",\\n               \"Costa Mesa, CA 92627\"\\n            ]\\n         },\\n         \"phone\": \"+19495485534\",\\n         \"display_phone\": \"(949) 548-5534\",\\n         \"distance\": 3397.748295897353\\n      },\\n      {\\n         \"id\": \"7j5rASw7jbPUO86TFZnrYw\",\\n         \"alias\": \"chipotle-mexican-grill-newport-beach-2\",\\n         \"name\": \"Chipotle Mexican Grill\",\\n         \"image_url\": \"https://s3-media3.fl.yelpcdn.com/bphoto/GpmfgzKXOm2dvCDnJUWSEQ/o.jpg\",\\n         \"is_closed\": false,\\n         \"url\": \"https://www.yelp.com/biz/chipotle-mexican-grill-newport-beach-2?adjust_creative=TRrxi_0kIDe9zVnCxt_2hQ&utm_campaign=yelp_api_v3&utm_medium=api_v3_business_search&utm_source=TRrxi_0kIDe9zVnCxt_2hQ\",\\n         \"review_count\": 181,\\n         \"categories\": [\\n            {\\n               \"alias\": \"mexican\",\\n               \"title\": \"Mexican\"\\n            },\\n            {\\n               \"alias\": \"hotdogs\",\\n               \"title\": \"Fast Food\"\\n            }\\n         ],\\n         \"rating\": 3.0,\\n         \"coordinates\": {\\n            \"latitude\": 33.6388926060496,\\n            \"longitude\": -117.860085180854\\n         },\\n         \"transactions\": [],\\n         \"price\": \"$\",\\n         \"location\": {\\n            \"address1\": \"1324 Bison\",\\n            \"address2\": \"\",\\n            \"address3\": \"\",\\n            \"city\": \"Newport Beach\",\\n            \"zip_code\": \"92660\",\\n            \"country\": \"US\",\\n            \"state\": \"CA\",\\n            \"display_address\": [\\n               \"1324 Bison\",\\n               \"Newport Beach, CA 92660\"\\n            ]\\n         },\\n         \"phone\": \"+19492190717\",\\n         \"display_phone\": \"(949) 219-0717\",\\n         \"distance\": 1453.0040745055605\\n      },\\n      {\\n         \"id\": \"A7RLliLJNAPXheQP5E0ybg\",\\n         \"alias\": \"tacos-and-co-newport-beach\",\\n         \"name\": \"Tacos & Co\",\\n         \"image_url\": \"https://s3-media1.fl.yelpcdn.com/bphoto/k_CoSJPZksoLUvnTJbf5nA/o.jpg\",\\n         \"is_closed\": false,\\n         \"url\": \"https://www.yelp.com/biz/tacos-and-co-newport-beach?adjust_creative=TRrxi_0kIDe9zVnCxt_2hQ&utm_campaign=yelp_api_v3&utm_medium=api_v3_business_search&utm_source=TRrxi_0kIDe9zVnCxt_2hQ\",\\n         \"review_count\": 174,\\n         \"categories\": [\\n            {\\n               \"alias\": \"mexican\",\\n               \"title\": \"Mexican\"\\n            }\\n         ],\\n         \"rating\": 2.5,\\n         \"coordinates\": {\\n            \"latitude\": 33.6568603,\\n            \"longitude\": -117.8653317\\n         },\\n         \"transactions\": [\\n            \"pickup\"\\n         ],\\n         \"price\": \"$\",\\n         \"location\": {\\n            \"address1\": \"3601 Jamboree Rd\",\\n            \"address2\": \"Ste 6\",\\n            \"address3\": \"\",\\n            \"city\": \"Newport Beach\",\\n            \"zip_code\": \"92660\",\\n            \"country\": \"US\",\\n            \"state\": \"CA\",\\n            \"display_address\": [\\n               \"3601 Jamboree Rd\",\\n               \"Ste 6\",\\n               \"Newport Beach, CA 92660\"\\n            ]\\n         },\\n         \"phone\": \"+19499551136\",\\n         \"display_phone\": \"(949) 955-1136\",\\n         \"distance\": 2494.8463784320575\\n      },\\n      {\\n         \"id\": \"Q0OaSmppWfH_PfC23a5kyA\",\\n         \"alias\": \"frescas-mexican-grill-costa-mesa\",\\n         \"name\": \"Fresca\\'s Mexican Grill\",\\n         \"image_url\": \"https://s3-media3.fl.yelpcdn.com/bphoto/FPh9ZWhWOonG_ygSUwZG5A/o.jpg\",\\n         \"is_closed\": false,\\n         \"url\": \"https://www.yelp.com/biz/frescas-mexican-grill-costa-mesa?adjust_creative=TRrxi_0kIDe9zVnCxt_2hQ&utm_campaign=yelp_api_v3&utm_medium=api_v3_business_search&utm_source=TRrxi_0kIDe9zVnCxt_2hQ\",\\n         \"review_count\": 103,\\n         \"categories\": [\\n            {\\n               \"alias\": \"mexican\",\\n               \"title\": \"Mexican\"\\n            }\\n         ],\\n         \"rating\": 3.5,\\n         \"coordinates\": {\\n            \"latitude\": 33.6655712348274,\\n            \"longitude\": -117.883018474028\\n         },\\n         \"transactions\": [\\n            \"delivery\",\\n            \"pickup\"\\n         ],\\n         \"price\": \"$\",\\n         \"location\": {\\n            \"address1\": \"20060 Santa Ana Ave\",\\n            \"address2\": \"\",\\n            \"address3\": \"\",\\n            \"city\": \"Costa Mesa\",\\n            \"zip_code\": \"92707\",\\n            \"country\": \"US\",\\n            \"state\": \"CA\",\\n            \"display_address\": [\\n               \"20060 Santa Ana Ave\",\\n               \"Costa Mesa, CA 92707\"\\n            ]\\n         },\\n         \"phone\": \"+17145576822\",\\n         \"display_phone\": \"(714) 557-6822\",\\n         \"distance\": 3348.975552266123\\n      },\\n      {\\n         \"id\": \"0spJknFNuXTVLdMdOrNRhA\",\\n         \"alias\": \"la-salsa-newport-beach-4\",\\n         \"name\": \"La Salsa\",\\n         \"image_url\": \"https://s3-media2.fl.yelpcdn.com/bphoto/9NqPsIsy9rpGpdkwYiF_eg/o.jpg\",\\n         \"is_closed\": false,\\n         \"url\": \"https://www.yelp.com/biz/la-salsa-newport-beach-4?adjust_creative=TRrxi_0kIDe9zVnCxt_2hQ&utm_campaign=yelp_api_v3&utm_medium=api_v3_business_search&utm_source=TRrxi_0kIDe9zVnCxt_2hQ\",\\n         \"review_count\": 66,\\n         \"categories\": [\\n            {\\n               \"alias\": \"mexican\",\\n               \"title\": \"Mexican\"\\n            }\\n         ],\\n         \"rating\": 3.5,\\n         \"coordinates\": {\\n            \"latitude\": 33.6667932,\\n            \"longitude\": -117.8645049\\n         },\\n         \"transactions\": [\\n            \"delivery\",\\n            \"pickup\"\\n         ],\\n         \"price\": \"$\",\\n         \"location\": {\\n            \"address1\": \"4341 MacArthur Blvd\",\\n            \"address2\": \"Ste F\",\\n            \"address3\": \"\",\\n            \"city\": \"Newport Beach\",\\n            \"zip_code\": \"92660\",\\n            \"country\": \"US\",\\n            \"state\": \"CA\",\\n            \"display_address\": [\\n               \"4341 MacArthur Blvd\",\\n               \"Ste F\",\\n               \"Newport Beach, CA 92660\"\\n            ]\\n         },\\n         \"phone\": \"+19494752506\",\\n         \"display_phone\": \"(949) 475-2506\",\\n         \"distance\": 3563.6686794405587\\n      },\\n      {\\n         \"id\": \"YA7a3nDDn6GSrYwb3etTzQ\",\\n         \"alias\": \"del-taco-costa-mesa\",\\n         \"name\": \"Del Taco\",\\n         \"image_url\": \"https://s3-media4.fl.yelpcdn.com/bphoto/8ghQt0kubaI93dOFaoWStw/o.jpg\",\\n         \"is_closed\": false,\\n         \"url\": \"https://www.yelp.com/biz/del-taco-costa-mesa?adjust_creative=TRrxi_0kIDe9zVnCxt_2hQ&utm_campaign=yelp_api_v3&utm_medium=api_v3_business_search&utm_source=TRrxi_0kIDe9zVnCxt_2hQ\",\\n         \"review_count\": 42,\\n         \"categories\": [\\n            {\\n               \"alias\": \"hotdogs\",\\n               \"title\": \"Fast Food\"\\n            },\\n            {\\n               \"alias\": \"mexican\",\\n               \"title\": \"Mexican\"\\n            }\\n         ],\\n         \"rating\": 4.0,\\n         \"coordinates\": {\\n            \"latitude\": 33.6676254272461,\\n            \"longitude\": -117.882675170898\\n         },\\n         \"transactions\": [],\\n         \"price\": \"$\",\\n         \"location\": {\\n            \"address1\": \"280 Bristol St\",\\n            \"address2\": \"\",\\n            \"address3\": \"\",\\n            \"city\": \"Costa Mesa\",\\n            \"zip_code\": \"92626\",\\n            \"country\": \"US\",\\n            \"state\": \"CA\",\\n            \"display_address\": [\\n               \"280 Bristol St\",\\n               \"Costa Mesa, CA 92626\"\\n            ]\\n         },\\n         \"phone\": \"+17145460587\",\\n         \"display_phone\": \"(714) 546-0587\",\\n         \"distance\": 3575.9743724226514\\n      },\\n      {\\n         \"id\": \"6UsubNaUqWJFaUcGcJhbQQ\",\\n         \"alias\": \"chronic-tacos-newport-beach-2\",\\n         \"name\": \"Chronic Tacos\",\\n         \"image_url\": \"https://s3-media1.fl.yelpcdn.com/bphoto/nOTn0EztLlzBWFf5RzL5Ng/o.jpg\",\\n         \"is_closed\": false,\\n         \"url\": \"https://www.yelp.com/biz/chronic-tacos-newport-beach-2?adjust_creative=TRrxi_0kIDe9zVnCxt_2hQ&utm_campaign=yelp_api_v3&utm_medium=api_v3_business_search&utm_source=TRrxi_0kIDe9zVnCxt_2hQ\",\\n         \"review_count\": 82,\\n         \"categories\": [\\n            {\\n               \"alias\": \"mexican\",\\n               \"title\": \"Mexican\"\\n            },\\n            {\\n               \"alias\": \"gluten_free\",\\n               \"title\": \"Gluten-Free\"\\n            },\\n            {\\n               \"alias\": \"tapasmallplates\",\\n               \"title\": \"Tapas/Small Plates\"\\n            }\\n         ],\\n         \"rating\": 3.5,\\n         \"coordinates\": {\\n            \"latitude\": 33.6290087020379,\\n            \"longitude\": -117.90634499506\\n         },\\n         \"transactions\": [],\\n         \"price\": \"$\",\\n         \"location\": {\\n            \"address1\": \"1120 Irvine Ave\",\\n            \"address2\": \"\",\\n            \"address3\": \"\",\\n            \"city\": \"Newport Beach\",\\n            \"zip_code\": \"92660\",\\n            \"country\": \"US\",\\n            \"state\": \"CA\",\\n            \"display_address\": [\\n               \"1120 Irvine Ave\",\\n               \"Newport Beach, CA 92660\"\\n            ]\\n         },\\n         \"phone\": \"+19496458226\",\\n         \"display_phone\": \"(949) 645-8226\",\\n         \"distance\": 2969.5888059609374\\n      },\\n      {\\n         \"id\": \"de45BaDlXrTVdIbFu9ntDA\",\\n         \"alias\": \"the-classic-taco-anaheim-3\",\\n         \"name\": \"The Classic Taco\",\\n         \"image_url\": \"https://s3-media3.fl.yelpcdn.com/bphoto/VDw9U8sqRZs7xSq1wjMpCQ/o.jpg\",\\n         \"is_closed\": false,\\n         \"url\": \"https://www.yelp.com/biz/the-classic-taco-anaheim-3?adjust_creative=TRrxi_0kIDe9zVnCxt_2hQ&utm_campaign=yelp_api_v3&utm_medium=api_v3_business_search&utm_source=TRrxi_0kIDe9zVnCxt_2hQ\",\\n         \"review_count\": 149,\\n         \"categories\": [\\n            {\\n               \"alias\": \"foodtrucks\",\\n               \"title\": \"Food Trucks\"\\n            },\\n            {\\n               \"alias\": \"mexican\",\\n               \"title\": \"Mexican\"\\n            }\\n         ],\\n         \"rating\": 4.0,\\n         \"coordinates\": {\\n            \"latitude\": 33.8378143310547,\\n            \"longitude\": -117.910202026367\\n         },\\n         \"transactions\": [],\\n         \"price\": \"$\",\\n         \"location\": {\\n            \"address1\": \"\",\\n            \"address2\": null,\\n            \"address3\": null,\\n            \"city\": \"Anaheim\",\\n            \"zip_code\": \"92805\",\\n            \"country\": \"US\",\\n            \"state\": \"CA\",\\n            \"display_address\": [\\n               \"Anaheim, CA 92805\"\\n            ]\\n         },\\n         \"phone\": \"+18444828226\",\\n         \"display_phone\": \"(844) 482-8226\",\\n         \"distance\": 21503.57180010906\\n      },\\n      {\\n         \"id\": \"OzUtVUeXrtdnZOFJrj9Hog\",\\n         \"alias\": \"tacos-cancun-newport-beach\",\\n         \"name\": \"Tacos Cancun\",\\n         \"image_url\": \"https://s3-media3.fl.yelpcdn.com/bphoto/cPUxKIEeE8jyzfBS7A-s9Q/o.jpg\",\\n         \"is_closed\": false,\\n         \"url\": \"https://www.yelp.com/biz/tacos-cancun-newport-beach?adjust_creative=TRrxi_0kIDe9zVnCxt_2hQ&utm_campaign=yelp_api_v3&utm_medium=api_v3_business_search&utm_source=TRrxi_0kIDe9zVnCxt_2hQ\",\\n         \"review_count\": 81,\\n         \"categories\": [\\n            {\\n               \"alias\": \"vegetarian\",\\n               \"title\": \"Vegetarian\"\\n            },\\n            {\\n               \"alias\": \"vegan\",\\n               \"title\": \"Vegan\"\\n            },\\n            {\\n               \"alias\": \"tacos\",\\n               \"title\": \"Tacos\"\\n            }\\n         ],\\n         \"rating\": 3.5,\\n         \"coordinates\": {\\n            \"latitude\": 33.601502,\\n            \"longitude\": -117.900061\\n         },\\n         \"transactions\": [],\\n         \"price\": \"$\",\\n         \"location\": {\\n            \"address1\": \"707 E Oceanfront\",\\n            \"address2\": \"\",\\n            \"address3\": \"\",\\n            \"city\": \"Newport Beach\",\\n            \"zip_code\": \"92661\",\\n            \"country\": \"US\",\\n            \"state\": \"CA\",\\n            \"display_address\": [\\n               \"707 E Oceanfront\",\\n               \"Newport Beach, CA 92661\"\\n            ]\\n         },\\n         \"phone\": \"+19496731730\",\\n         \"display_phone\": \"(949) 673-1730\",\\n         \"distance\": 4468.741252177071\\n      },\\n      {\\n         \"id\": \"v_aZpZd6E0XcO4gLtt-dRQ\",\\n         \"alias\": \"taco-bell-newport-beach\",\\n         \"name\": \"Taco Bell\",\\n         \"image_url\": \"https://s3-media2.fl.yelpcdn.com/bphoto/DN3hprBLz4cfM36jJpbQsA/o.jpg\",\\n         \"is_closed\": false,\\n         \"url\": \"https://www.yelp.com/biz/taco-bell-newport-beach?adjust_creative=TRrxi_0kIDe9zVnCxt_2hQ&utm_campaign=yelp_api_v3&utm_medium=api_v3_business_search&utm_source=TRrxi_0kIDe9zVnCxt_2hQ\",\\n         \"review_count\": 62,\\n         \"categories\": [\\n            {\\n               \"alias\": \"hotdogs\",\\n               \"title\": \"Fast Food\"\\n            },\\n            {\\n               \"alias\": \"mexican\",\\n               \"title\": \"Mexican\"\\n            },\\n            {\\n               \"alias\": \"tex-mex\",\\n               \"title\": \"Tex-Mex\"\\n            }\\n         ],\\n         \"rating\": 3.0,\\n         \"coordinates\": {\\n            \"latitude\": 33.6588,\\n            \"longitude\": -117.8616\\n         },\\n         \"transactions\": [\\n            \"delivery\"\\n         ],\\n         \"price\": \"$\",\\n         \"location\": {\\n            \"address1\": \"4101 Jamboree Rd\",\\n            \"address2\": \"\",\\n            \"address3\": \"\",\\n            \"city\": \"Newport Beach\",\\n            \"zip_code\": \"92660\",\\n            \"country\": \"US\",\\n            \"state\": \"CA\",\\n            \"display_address\": [\\n               \"4101 Jamboree Rd\",\\n               \"Newport Beach, CA 92660\"\\n            ]\\n         },\\n         \"phone\": \"+19497240133\",\\n         \"display_phone\": \"(949) 724-0133\",\\n         \"distance\": 2834.15493880892\\n      },\\n      {\\n         \"id\": \"J00ToaP51uJoqcFwNEEYxg\",\\n         \"alias\": \"el-pollo-loco-newport-beach-2\",\\n         \"name\": \"El Pollo Loco\",\\n         \"image_url\": \"https://s3-media2.fl.yelpcdn.com/bphoto/6pj3XLBl3nnEY0KPPHt-vQ/o.jpg\",\\n         \"is_closed\": false,\\n         \"url\": \"https://www.yelp.com/biz/el-pollo-loco-newport-beach-2?adjust_creative=TRrxi_0kIDe9zVnCxt_2hQ&utm_campaign=yelp_api_v3&utm_medium=api_v3_business_search&utm_source=TRrxi_0kIDe9zVnCxt_2hQ\",\\n         \"review_count\": 64,\\n         \"categories\": [\\n            {\\n               \"alias\": \"mexican\",\\n               \"title\": \"Mexican\"\\n            },\\n            {\\n               \"alias\": \"hotdogs\",\\n               \"title\": \"Fast Food\"\\n            }\\n         ],\\n         \"rating\": 3.0,\\n         \"coordinates\": {\\n            \"latitude\": 33.65945,\\n            \"longitude\": -117.87259\\n         },\\n         \"transactions\": [],\\n         \"price\": \"$\",\\n         \"location\": {\\n            \"address1\": \"2232 S Bristol St\",\\n            \"address2\": \"\",\\n            \"address3\": \"\",\\n            \"city\": \"Newport Beach\",\\n            \"zip_code\": \"92660\",\\n            \"country\": \"US\",\\n            \"state\": \"CA\",\\n            \"display_address\": [\\n               \"2232 S Bristol St\",\\n               \"Newport Beach, CA 92660\"\\n            ]\\n         },\\n         \"phone\": \"+19494742120\",\\n         \"display_phone\": \"(949) 474-2120\",\\n         \"distance\": 2619.129985237575\\n      },\\n      {\\n         \"id\": \"sTSi1EgTj8WFBz0Bv66Zbw\",\\n         \"alias\": \"taco-bell-irvine-4\",\\n         \"name\": \"Taco Bell\",\\n         \"image_url\": \"https://s3-media4.fl.yelpcdn.com/bphoto/HfTh64na-eH0Vma83lJX8g/o.jpg\",\\n         \"is_closed\": false,\\n         \"url\": \"https://www.yelp.com/biz/taco-bell-irvine-4?adjust_creative=TRrxi_0kIDe9zVnCxt_2hQ&utm_campaign=yelp_api_v3&utm_medium=api_v3_business_search&utm_source=TRrxi_0kIDe9zVnCxt_2hQ\",\\n         \"review_count\": 108,\\n         \"categories\": [\\n            {\\n               \"alias\": \"mexican\",\\n               \"title\": \"Mexican\"\\n            },\\n            {\\n               \"alias\": \"hotdogs\",\\n               \"title\": \"Fast Food\"\\n            },\\n            {\\n               \"alias\": \"tex-mex\",\\n               \"title\": \"Tex-Mex\"\\n            }\\n         ],\\n         \"rating\": 2.5,\\n         \"coordinates\": {\\n            \"latitude\": 33.6509483524066,\\n            \"longitude\": -117.840873556031\\n         },\\n         \"transactions\": [\\n            \"delivery\"\\n         ],\\n         \"price\": \"$\",\\n         \"location\": {\\n            \"address1\": \"4101 Campus Drive\",\\n            \"address2\": \"\",\\n            \"address3\": \"\",\\n            \"city\": \"Irvine\",\\n            \"zip_code\": \"92612\",\\n            \"country\": \"US\",\\n            \"state\": \"CA\",\\n            \"display_address\": [\\n               \"4101 Campus Drive\",\\n               \"Irvine, CA 92612\"\\n            ]\\n         },\\n         \"phone\": \"+19497258348\",\\n         \"display_phone\": \"(949) 725-8348\",\\n         \"distance\": 3600.3171222337455\\n      },\\n      {\\n         \"id\": \"swPL2dgF7_JDANVxI0-AZg\",\\n         \"alias\": \"mariscos-hector-costa-mesa\",\\n         \"name\": \"Mariscos Hector\",\\n         \"image_url\": \"https://s3-media1.fl.yelpcdn.com/bphoto/uJD_ckK3q1uz6zI-cx31UQ/o.jpg\",\\n         \"is_closed\": false,\\n         \"url\": \"https://www.yelp.com/biz/mariscos-hector-costa-mesa?adjust_creative=TRrxi_0kIDe9zVnCxt_2hQ&utm_campaign=yelp_api_v3&utm_medium=api_v3_business_search&utm_source=TRrxi_0kIDe9zVnCxt_2hQ\",\\n         \"review_count\": 34,\\n         \"categories\": [\\n            {\\n               \"alias\": \"mexican\",\\n               \"title\": \"Mexican\"\\n            },\\n            {\\n               \"alias\": \"seafood\",\\n               \"title\": \"Seafood\"\\n            }\\n         ],\\n         \"rating\": 3.5,\\n         \"coordinates\": {\\n            \"latitude\": 33.6568336486816,\\n            \"longitude\": -117.908309936523\\n         },\\n         \"transactions\": [],\\n         \"price\": \"$$\",\\n         \"location\": {\\n            \"address1\": \"2263 Fairview Rd\",\\n            \"address2\": \"\",\\n            \"address3\": \"\",\\n            \"city\": \"Costa Mesa\",\\n            \"zip_code\": \"92627\",\\n            \"country\": \"US\",\\n            \"state\": \"CA\",\\n            \"display_address\": [\\n               \"2263 Fairview Rd\",\\n               \"Costa Mesa, CA 92627\"\\n            ]\\n         },\\n         \"phone\": \"+19496502600\",\\n         \"display_phone\": \"(949) 650-2600\",\\n         \"distance\": 3845.813714214428\\n      },\\n      {\\n         \"id\": \"z-La7mVgc7Y0iGXPs-uUWg\",\\n         \"alias\": \"wahoos-fish-tacos-irvine-3\",\\n         \"name\": \"Wahoo\\'s Fish Tacos\",\\n         \"image_url\": \"https://s3-media4.fl.yelpcdn.com/bphoto/DA50hLwTNqOwN0mPsVmNtg/o.jpg\",\\n         \"is_closed\": false,\\n         \"url\": \"https://www.yelp.com/biz/wahoos-fish-tacos-irvine-3?adjust_creative=TRrxi_0kIDe9zVnCxt_2hQ&utm_campaign=yelp_api_v3&utm_medium=api_v3_business_search&utm_source=TRrxi_0kIDe9zVnCxt_2hQ\",\\n         \"review_count\": 26,\\n         \"categories\": [\\n            {\\n               \"alias\": \"mexican\",\\n               \"title\": \"Mexican\"\\n            }\\n         ],\\n         \"rating\": 3.5,\\n         \"coordinates\": {\\n            \"latitude\": 33.6493818973953,\\n            \"longitude\": -117.842740416527\\n         },\\n         \"transactions\": [],\\n         \"price\": \"$\",\\n         \"location\": {\\n            \"address1\": \"437 Campus Dr\",\\n            \"address2\": \"\",\\n            \"address3\": \"\",\\n            \"city\": \"Irvine\",\\n            \"zip_code\": \"92612\",\\n            \"country\": \"US\",\\n            \"state\": \"CA\",\\n            \"display_address\": [\\n               \"437 Campus Dr\",\\n               \"Irvine, CA 92612\"\\n            ]\\n         },\\n         \"phone\": \"+19498240655\",\\n         \"display_phone\": \"(949) 824-0655\",\\n         \"distance\": 3367.597985864621\\n      },\\n      {\\n         \"id\": \"dS7_4xMiWizb3nbd6ufFOg\",\\n         \"alias\": \"el-taquero-santa-ana-3\",\\n         \"name\": \"El Taquero\",\\n         \"image_url\": \"https://s3-media3.fl.yelpcdn.com/bphoto/1_RxAc-qJmOnQp8yodvEAA/o.jpg\",\\n         \"is_closed\": false,\\n         \"url\": \"https://www.yelp.com/biz/el-taquero-santa-ana-3?adjust_creative=TRrxi_0kIDe9zVnCxt_2hQ&utm_campaign=yelp_api_v3&utm_medium=api_v3_business_search&utm_source=TRrxi_0kIDe9zVnCxt_2hQ\",\\n         \"review_count\": 24,\\n         \"categories\": [\\n            {\\n               \"alias\": \"foodtrucks\",\\n               \"title\": \"Food Trucks\"\\n            },\\n            {\\n               \"alias\": \"mexican\",\\n               \"title\": \"Mexican\"\\n            }\\n         ],\\n         \"rating\": 4.0,\\n         \"coordinates\": {\\n            \"latitude\": 33.7111634821758,\\n            \"longitude\": -117.867855753388\\n         },\\n         \"transactions\": [\\n            \"pickup\"\\n         ],\\n         \"price\": \"$\",\\n         \"location\": {\\n            \"address1\": \"100 Goetz Ave\",\\n            \"address2\": \"\",\\n            \"address3\": null,\\n            \"city\": \"Santa Ana\",\\n            \"zip_code\": \"92707\",\\n            \"country\": \"US\",\\n            \"state\": \"CA\",\\n            \"display_address\": [\\n               \"100 Goetz Ave\",\\n               \"Santa Ana, CA 92707\"\\n            ]\\n         },\\n         \"phone\": \"+17147954066\",\\n         \"display_phone\": \"(714) 795-4066\",\\n         \"distance\": 8387.860404755043\\n      },\\n      {\\n         \"id\": \"GktGivHnyKKHx6ZNFfGtfw\",\\n         \"alias\": \"phoenix-grille-irvine\",\\n         \"name\": \"Phoenix Grille\",\\n         \"image_url\": \"https://s3-media1.fl.yelpcdn.com/bphoto/l_R5tkPFQktPGbc32-KquQ/o.jpg\",\\n         \"is_closed\": false,\\n         \"url\": \"https://www.yelp.com/biz/phoenix-grille-irvine?adjust_creative=TRrxi_0kIDe9zVnCxt_2hQ&utm_campaign=yelp_api_v3&utm_medium=api_v3_business_search&utm_source=TRrxi_0kIDe9zVnCxt_2hQ\",\\n         \"review_count\": 28,\\n         \"categories\": [\\n            {\\n               \"alias\": \"burgers\",\\n               \"title\": \"Burgers\"\\n            },\\n            {\\n               \"alias\": \"pizza\",\\n               \"title\": \"Pizza\"\\n            },\\n            {\\n               \"alias\": \"mexican\",\\n               \"title\": \"Mexican\"\\n            }\\n         ],\\n         \"rating\": 3.0,\\n         \"coordinates\": {\\n            \"latitude\": 33.6455905386265,\\n            \"longitude\": -117.840685844421\\n         },\\n         \"transactions\": [],\\n         \"price\": \"$\",\\n         \"location\": {\\n            \"address1\": \"UC-Irvine Campus\",\\n            \"address2\": \"\",\\n            \"address3\": \"Aldrich Park\",\\n            \"city\": \"Irvine\",\\n            \"zip_code\": \"92697\",\\n            \"country\": \"US\",\\n            \"state\": \"CA\",\\n            \"display_address\": [\\n               \"UC-Irvine Campus\",\\n               \"Aldrich Park\",\\n               \"Irvine, CA 92697\"\\n            ]\\n         },\\n         \"phone\": \"+19498244659\",\\n         \"display_phone\": \"(949) 824-4659\",\\n         \"distance\": 3384.5628760352997\\n      },\\n      {\\n         \"id\": \"Dii2M22v553x262cHNp7TA\",\\n         \"alias\": \"island-grill-newport-beach\",\\n         \"name\": \"Island Grill\",\\n         \"image_url\": \"https://s3-media4.fl.yelpcdn.com/bphoto/i_0to-zUzuDX2CDrD03l2Q/o.jpg\",\\n         \"is_closed\": false,\\n         \"url\": \"https://www.yelp.com/biz/island-grill-newport-beach?adjust_creative=TRrxi_0kIDe9zVnCxt_2hQ&utm_campaign=yelp_api_v3&utm_medium=api_v3_business_search&utm_source=TRrxi_0kIDe9zVnCxt_2hQ\",\\n         \"review_count\": 26,\\n         \"categories\": [\\n            {\\n               \"alias\": \"burgers\",\\n               \"title\": \"Burgers\"\\n            },\\n            {\\n               \"alias\": \"mexican\",\\n               \"title\": \"Mexican\"\\n            }\\n         ],\\n         \"rating\": 3.0,\\n         \"coordinates\": {\\n            \"latitude\": 33.60552,\\n            \"longitude\": -117.89817\\n         },\\n         \"transactions\": [],\\n         \"price\": \"$\",\\n         \"location\": {\\n            \"address1\": \"500 S Bayfront\",\\n            \"address2\": \"\",\\n            \"address3\": \"\",\\n            \"city\": \"Newport Beach\",\\n            \"zip_code\": \"92662\",\\n            \"country\": \"US\",\\n            \"state\": \"CA\",\\n            \"display_address\": [\\n               \"500 S Bayfront\",\\n               \"Newport Beach, CA 92662\"\\n            ]\\n         },\\n         \"phone\": \"+19496731186\",\\n         \"display_phone\": \"(949) 673-1186\",\\n         \"distance\": 3994.4169662911795\\n      },\\n      {\\n         \"id\": \"So2yh7OO1SDWatGloBWk9A\",\\n         \"alias\": \"taco-bell-newport-beach-3\",\\n         \"name\": \"Taco Bell\",\\n         \"image_url\": \"https://s3-media2.fl.yelpcdn.com/bphoto/9Se1kMA-bHoI0BoRt4JUBw/o.jpg\",\\n         \"is_closed\": false,\\n         \"url\": \"https://www.yelp.com/biz/taco-bell-newport-beach-3?adjust_creative=TRrxi_0kIDe9zVnCxt_2hQ&utm_campaign=yelp_api_v3&utm_medium=api_v3_business_search&utm_source=TRrxi_0kIDe9zVnCxt_2hQ\",\\n         \"review_count\": 15,\\n         \"categories\": [\\n            {\\n               \"alias\": \"tex-mex\",\\n               \"title\": \"Tex-Mex\"\\n            },\\n            {\\n               \"alias\": \"hotdogs\",\\n               \"title\": \"Fast Food\"\\n            },\\n            {\\n               \"alias\": \"mexican\",\\n               \"title\": \"Mexican\"\\n            }\\n         ],\\n         \"rating\": 2.5,\\n         \"coordinates\": {\\n            \"latitude\": 33.6161167874338,\\n            \"longitude\": -117.874848628961\\n         },\\n         \"transactions\": [\\n            \"delivery\"\\n         ],\\n         \"price\": \"$\",\\n         \"location\": {\\n            \"address1\": \"Fashion Island Mall\",\\n            \"address2\": \"401 Newport Center Dr Ste A107\",\\n            \"address3\": \"\",\\n            \"city\": \"Newport Beach\",\\n            \"zip_code\": \"92660\",\\n            \"country\": \"US\",\\n            \"state\": \"CA\",\\n            \"display_address\": [\\n               \"Fashion Island Mall\",\\n               \"401 Newport Center Dr Ste A107\",\\n               \"Newport Beach, CA 92660\"\\n            ]\\n         },\\n         \"phone\": \"+19497060303\",\\n         \"display_phone\": \"(949) 706-0303\",\\n         \"distance\": 2216.9974163491484\\n      },\\n      {\\n         \"id\": \"p_ceDxYXNvCMp4wUyZnURQ\",\\n         \"alias\": \"mi-casita-newport-beach\",\\n         \"name\": \"Mi Casita\",\\n         \"image_url\": \"https://s3-media2.fl.yelpcdn.com/bphoto/YAaV_3UabgRjgw1wjr3AwQ/o.jpg\",\\n         \"is_closed\": false,\\n         \"url\": \"https://www.yelp.com/biz/mi-casita-newport-beach?adjust_creative=TRrxi_0kIDe9zVnCxt_2hQ&utm_campaign=yelp_api_v3&utm_medium=api_v3_business_search&utm_source=TRrxi_0kIDe9zVnCxt_2hQ\",\\n         \"review_count\": 3,\\n         \"categories\": [\\n            {\\n               \"alias\": \"foodtrucks\",\\n               \"title\": \"Food Trucks\"\\n            },\\n            {\\n               \"alias\": \"mexican\",\\n               \"title\": \"Mexican\"\\n            }\\n         ],\\n         \"rating\": 2.5,\\n         \"coordinates\": {\\n            \"latitude\": 33.62844,\\n            \"longitude\": -117.86509\\n         },\\n         \"transactions\": [],\\n         \"location\": {\\n            \"address1\": \"\",\\n            \"address2\": \"\",\\n            \"address3\": null,\\n            \"city\": \"Newport Beach\",\\n            \"zip_code\": \"92660\",\\n            \"country\": \"US\",\\n            \"state\": \"CA\",\\n            \"display_address\": [\\n               \"Newport Beach, CA 92660\"\\n            ]\\n         },\\n         \"phone\": \"+17143940953\",\\n         \"display_phone\": \"(714) 394-0953\",\\n         \"distance\": 722.924558991545\\n      },\\n      {\\n         \"id\": \"5Tlc2ghbVOEsffRP1pTUAQ\",\\n         \"alias\": \"victors-catering-costa-mesa\",\\n         \"name\": \"Victor\\'s Catering\",\\n         \"image_url\": \"https://s3-media3.fl.yelpcdn.com/bphoto/YSDxnobv06oBgQTOJpj3qg/o.jpg\",\\n         \"is_closed\": false,\\n         \"url\": \"https://www.yelp.com/biz/victors-catering-costa-mesa?adjust_creative=TRrxi_0kIDe9zVnCxt_2hQ&utm_campaign=yelp_api_v3&utm_medium=api_v3_business_search&utm_source=TRrxi_0kIDe9zVnCxt_2hQ\",\\n         \"review_count\": 2,\\n         \"categories\": [\\n            {\\n               \"alias\": \"mexican\",\\n               \"title\": \"Mexican\"\\n            }\\n         ],\\n         \"rating\": 4.5,\\n         \"coordinates\": {\\n            \"latitude\": 33.6714970606105,\\n            \"longitude\": -117.910766601562\\n         },\\n         \"transactions\": [],\\n         \"price\": \"$\",\\n         \"location\": {\\n            \"address1\": \"2701 Fairview Rd\",\\n            \"address2\": \"\",\\n            \"address3\": \"Orange Coast College\",\\n            \"city\": \"Costa Mesa\",\\n            \"zip_code\": \"92626\",\\n            \"country\": \"US\",\\n            \"state\": \"CA\",\\n            \"display_address\": [\\n               \"2701 Fairview Rd\",\\n               \"Orange Coast College\",\\n               \"Costa Mesa, CA 92626\"\\n            ]\\n         },\\n         \"phone\": \"+17143285848\",\\n         \"display_phone\": \"(714) 328-5848\",\\n         \"distance\": 5123.404719305854\\n      },\\n      {\\n         \"id\": \"7z5cmbueCHJvtdSrQz9gLg\",\\n         \"alias\": \"morenas-grill-taco-truck-costa-mesa\",\\n         \"name\": \"Morena\\'s Grill - Taco Truck\",\\n         \"image_url\": \"\",\\n         \"is_closed\": false,\\n         \"url\": \"https://www.yelp.com/biz/morenas-grill-taco-truck-costa-mesa?adjust_creative=TRrxi_0kIDe9zVnCxt_2hQ&utm_campaign=yelp_api_v3&utm_medium=api_v3_business_search&utm_source=TRrxi_0kIDe9zVnCxt_2hQ\",\\n         \"review_count\": 1,\\n         \"categories\": [\\n            {\\n               \"alias\": \"foodstands\",\\n               \"title\": \"Food Stands\"\\n            },\\n            {\\n               \"alias\": \"mexican\",\\n               \"title\": \"Mexican\"\\n            }\\n         ],\\n         \"rating\": 4.0,\\n         \"coordinates\": {\\n            \"latitude\": 33.64887,\\n            \"longitude\": -117.91093\\n         },\\n         \"transactions\": [],\\n         \"location\": {\\n            \"address1\": \"21st & Newport Blvd\",\\n            \"address2\": \"\",\\n            \"address3\": \"\",\\n            \"city\": \"Costa Mesa\",\\n            \"zip_code\": \"92627\",\\n            \"country\": \"US\",\\n            \"state\": \"CA\",\\n            \"display_address\": [\\n               \"21st & Newport Blvd\",\\n               \"Costa Mesa, CA 92627\"\\n            ]\\n         },\\n         \"phone\": \"\",\\n         \"display_phone\": \"\",\\n         \"distance\": 3585.614868625549\\n      },\\n      {\\n         \"id\": \"_y8307lD8N5eOp_CDs_BsQ\",\\n         \"alias\": \"annabel-81-newport-beach\",\\n         \"name\": \"Annabel 81\",\\n         \"image_url\": \"\",\\n         \"is_closed\": false,\\n         \"url\": \"https://www.yelp.com/biz/annabel-81-newport-beach?adjust_creative=TRrxi_0kIDe9zVnCxt_2hQ&utm_campaign=yelp_api_v3&utm_medium=api_v3_business_search&utm_source=TRrxi_0kIDe9zVnCxt_2hQ\",\\n         \"review_count\": 2,\\n         \"categories\": [\\n            {\\n               \"alias\": \"tradamerican\",\\n               \"title\": \"American (Traditional)\"\\n            },\\n            {\\n               \"alias\": \"mexican\",\\n               \"title\": \"Mexican\"\\n            }\\n         ],\\n         \"rating\": 3.0,\\n         \"coordinates\": {\\n            \"latitude\": 33.6698494,\\n            \"longitude\": -117.8652573\\n         },\\n         \"transactions\": [],\\n         \"price\": \"$$$\",\\n         \"location\": {\\n            \"address1\": \"4647 McArthur Blvd\",\\n            \"address2\": \"\",\\n            \"address3\": \"\",\\n            \"city\": \"Newport Beach\",\\n            \"zip_code\": \"92660\",\\n            \"country\": \"US\",\\n            \"state\": \"CA\",\\n            \"display_address\": [\\n               \"4647 McArthur Blvd\",\\n               \"Newport Beach, CA 92660\"\\n            ]\\n         },\\n         \"phone\": \"+19497840331\",\\n         \"display_phone\": \"(949) 784-0331\",\\n         \"distance\": 3880.7173419151873\\n      },\\n      {\\n         \"id\": \"IrsnigD0jBAx4nb7oV__GA\",\\n         \"alias\": \"rakken-tacos-costa-mesa\",\\n         \"name\": \"Rakken Tacos\",\\n         \"image_url\": \"https://s3-media1.fl.yelpcdn.com/bphoto/7ntm1g0YMSy1J4015_DNEg/o.jpg\",\\n         \"is_closed\": false,\\n         \"url\": \"https://www.yelp.com/biz/rakken-tacos-costa-mesa?adjust_creative=TRrxi_0kIDe9zVnCxt_2hQ&utm_campaign=yelp_api_v3&utm_medium=api_v3_business_search&utm_source=TRrxi_0kIDe9zVnCxt_2hQ\",\\n         \"review_count\": 3,\\n         \"categories\": [\\n            {\\n               \"alias\": \"mexican\",\\n               \"title\": \"Mexican\"\\n            }\\n         ],\\n         \"rating\": 2.5,\\n         \"coordinates\": {\\n            \"latitude\": 33.6664066229014,\\n            \"longitude\": -117.899270653725\\n         },\\n         \"transactions\": [],\\n         \"location\": {\\n            \"address1\": \"88 Fair Dr\",\\n            \"address2\": \"\",\\n            \"address3\": null,\\n            \"city\": \"Costa Mesa\",\\n            \"zip_code\": \"92626\",\\n            \"country\": \"US\",\\n            \"state\": \"CA\",\\n            \"display_address\": [\\n               \"88 Fair Dr\",\\n               \"Costa Mesa, CA 92626\"\\n            ]\\n         },\\n         \"phone\": \"\",\\n         \"display_phone\": \"\",\\n         \"distance\": 4034.176368673142\\n      },\\n      {\\n         \"id\": \"16IlNW39FGMDFF7yNVRlVA\",\\n         \"alias\": \"noels-foods-costa-mesa\",\\n         \"name\": \"Noel\\'s Foods\",\\n         \"image_url\": \"https://s3-media2.fl.yelpcdn.com/bphoto/K5QP5Z35o1yREOFKiVTsSw/o.jpg\",\\n         \"is_closed\": false,\\n         \"url\": \"https://www.yelp.com/biz/noels-foods-costa-mesa?adjust_creative=TRrxi_0kIDe9zVnCxt_2hQ&utm_campaign=yelp_api_v3&utm_medium=api_v3_business_search&utm_source=TRrxi_0kIDe9zVnCxt_2hQ\",\\n         \"review_count\": 1,\\n         \"categories\": [\\n            {\\n               \"alias\": \"mexican\",\\n               \"title\": \"Mexican\"\\n            }\\n         ],\\n         \"rating\": 4.0,\\n         \"coordinates\": {\\n            \"latitude\": 33.6666,\\n            \"longitude\": -117.89946\\n         },\\n         \"transactions\": [],\\n         \"location\": {\\n            \"address1\": \"88 Fair Dr\",\\n            \"address2\": \"\",\\n            \"address3\": \"OC Fair\",\\n            \"city\": \"Costa Mesa\",\\n            \"zip_code\": \"92626\",\\n            \"country\": \"US\",\\n            \"state\": \"CA\",\\n            \"display_address\": [\\n               \"88 Fair Dr\",\\n               \"OC Fair\",\\n               \"Costa Mesa, CA 92626\"\\n            ]\\n         },\\n         \"phone\": \"\",\\n         \"display_phone\": \"\",\\n         \"distance\": 4513.797481044936\\n      },\\n      {\\n         \"id\": \"JxldhbA2gb8vTyM0bbM6Nw\",\\n         \"alias\": \"gordolicious-tacos-and-catering-los-angeles-2\",\\n         \"name\": \"Gordolicious Tacos & Catering\",\\n         \"image_url\": \"https://s3-media1.fl.yelpcdn.com/bphoto/AgTrUbJRZHS43m1kL0GMaA/o.jpg\",\\n         \"is_closed\": false,\\n         \"url\": \"https://www.yelp.com/biz/gordolicious-tacos-and-catering-los-angeles-2?adjust_creative=TRrxi_0kIDe9zVnCxt_2hQ&utm_campaign=yelp_api_v3&utm_medium=api_v3_business_search&utm_source=TRrxi_0kIDe9zVnCxt_2hQ\",\\n         \"review_count\": 4,\\n         \"categories\": [\\n            {\\n               \"alias\": \"foodtrucks\",\\n               \"title\": \"Food Trucks\"\\n            },\\n            {\\n               \"alias\": \"mexican\",\\n               \"title\": \"Mexican\"\\n            }\\n         ],\\n         \"rating\": 5.0,\\n         \"coordinates\": {\\n            \"latitude\": 33.9740867614746,\\n            \"longitude\": -118.24983215332\\n         },\\n         \"transactions\": [],\\n         \"location\": {\\n            \"address1\": \"\",\\n            \"address2\": null,\\n            \"address3\": \"\",\\n            \"city\": \"Los Angeles\",\\n            \"zip_code\": \"90001\",\\n            \"country\": \"US\",\\n            \"state\": \"CA\",\\n            \"display_address\": [\\n               \"Los Angeles, CA 90001\"\\n            ]\\n         },\\n         \"phone\": \"+16234336267\",\\n         \"display_phone\": \"(623) 433-6267\",\\n         \"distance\": 50545.55961999222\\n      }\\n   ],\\n   \"total\": 38,\\n   \"region\": {\\n      \"center\": {\\n         \"longitude\": -117.87540435791016,\\n         \"latitude\": 33.6360493757636\\n      }\\n   }\\n}'"
      ]
     },
     "execution_count": 90,
     "metadata": {},
     "output_type": "execute_result"
    }
   ],
   "source": [
    "json.dumps(output, indent=3)"
   ]
  },
  {
   "cell_type": "code",
   "execution_count": 94,
   "metadata": {},
   "outputs": [
    {
     "data": {
      "text/plain": [
       "{'id': 'iWIHTz-Pne2ZziLQqETNHA',\n",
       " 'alias': 'red-o-newport-beach-3',\n",
       " 'name': 'Red O',\n",
       " 'image_url': 'https://s3-media2.fl.yelpcdn.com/bphoto/i8k6nOzRgCpnNQWQMziqNw/o.jpg',\n",
       " 'is_closed': False,\n",
       " 'url': 'https://www.yelp.com/biz/red-o-newport-beach-3?adjust_creative=TRrxi_0kIDe9zVnCxt_2hQ&utm_campaign=yelp_api_v3&utm_medium=api_v3_business_search&utm_source=TRrxi_0kIDe9zVnCxt_2hQ',\n",
       " 'review_count': 1541,\n",
       " 'categories': [{'alias': 'mexican', 'title': 'Mexican'},\n",
       "  {'alias': 'seafood', 'title': 'Seafood'},\n",
       "  {'alias': 'steak', 'title': 'Steakhouses'}],\n",
       " 'rating': 4.0,\n",
       " 'coordinates': {'latitude': 33.6129616, 'longitude': -117.875378},\n",
       " 'transactions': ['delivery', 'pickup'],\n",
       " 'price': '$$$',\n",
       " 'location': {'address1': '143 Newport Center Dr',\n",
       "  'address2': '',\n",
       "  'address3': '',\n",
       "  'city': 'Newport Beach',\n",
       "  'zip_code': '92660',\n",
       "  'country': 'US',\n",
       "  'state': 'CA',\n",
       "  'display_address': ['143 Newport Center Dr', 'Newport Beach, CA 92660']},\n",
       " 'phone': '+19497180300',\n",
       " 'display_phone': '(949) 718-0300',\n",
       " 'distance': 2567.2418450812174}"
      ]
     },
     "execution_count": 94,
     "metadata": {},
     "output_type": "execute_result"
    }
   ],
   "source": [
    "output['businesses'][1]"
   ]
  },
  {
   "cell_type": "code",
   "execution_count": 92,
   "metadata": {},
   "outputs": [
    {
     "data": {
      "text/plain": [
       "38"
      ]
     },
     "execution_count": 92,
     "metadata": {},
     "output_type": "execute_result"
    }
   ],
   "source": [
    "len(output['businesses'])"
   ]
  },
  {
   "cell_type": "code",
   "execution_count": null,
   "metadata": {},
   "outputs": [],
   "source": []
  }
 ],
 "metadata": {
  "kernelspec": {
   "display_name": "Python 3",
   "language": "python",
   "name": "python3"
  },
  "language_info": {
   "codemirror_mode": {
    "name": "ipython",
    "version": 3
   },
   "file_extension": ".py",
   "mimetype": "text/x-python",
   "name": "python",
   "nbconvert_exporter": "python",
   "pygments_lexer": "ipython3",
   "version": "3.7.0"
  }
 },
 "nbformat": 4,
 "nbformat_minor": 2
}
